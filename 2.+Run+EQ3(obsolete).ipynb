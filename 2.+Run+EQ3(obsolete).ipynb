{
 "cells": [
  {
   "cell_type": "code",
   "execution_count": 1,
   "metadata": {
    "collapsed": false
   },
   "outputs": [],
   "source": [
    "import os, re, sys, shutil, fileinput, getopt, argparse, csv, copy\n",
    "import numpy as np\n",
    "# import pandas as pd\n",
    "from itertools import *\n",
    "from collections import *\n",
    "from subprocess import * \n",
    "from time import *\n",
    "\n",
    "sys.path.insert(1, '/Users/tuckerely/SUPCRTandEQs/Automate_EQ3')  #    this sets up the environmental variables\n",
    "\n",
    "import scripts\n",
    "import scripts.Search_Data0_3    #    this lets the user know what basis and solid options are available.\n",
    "import scripts.Call_EQ3          #    this builds and runs the EQ3 files\n",
    "import scripts.EQ3_Error         #    error checking for failed runs.\n",
    "pwd = os.getcwd()"
   ]
  },
  {
   "cell_type": "markdown",
   "metadata": {},
   "source": [
    "# Needed Functions"
   ]
  },
  {
   "cell_type": "code",
   "execution_count": 2,
   "metadata": {
    "collapsed": false
   },
   "outputs": [],
   "source": [
    "def read_inputs(file_type, location):\n",
    "    ### this function can find all .6o files in all downstream folders, hence the additio of file_list\n",
    "    file_name = []                      #    file names\n",
    "    file_list = []                      #    file names with paths\n",
    "    for root, dirs, files in os.walk(location):# this works. \n",
    "        for file in files:\n",
    "            if file.endswith(file_type):\n",
    "                file_name.append(file)\n",
    "                file_list.append(os.path.join(root, file)) \n",
    "    return file_name, file_list\n",
    "\n",
    "\n",
    "def mk_check_del_directory(path):\n",
    "    ###  This code checks for the dir being created, and if it is already present, deletes it, before recreating it\n",
    "    if not os.path.exists(path):           #    Check if the dir is alrady pessent\n",
    "        os.makedirs(path)                  #    Build desired output directory\n",
    "    else:\n",
    "        shutil.rmtree(path)                #    Remove directory and contents if it is already present.\n",
    "        os.makedirs(path)\n",
    "def call_EQ3(l, path, water):\n",
    "    ### Calls and runs EQ3 in a serial fashion.\n",
    "    ### l = data0 3 leter suffix of a data0/1 file in th db directory\n",
    "    ### path = path to where ever the 3i files are stored\n",
    "    ### water = the name of the 3i file itself\n",
    "    \n",
    "    print('calling EQ3 on ' + water + ' using ' + l)\n",
    "    os.chdir(path)                                              #    step into 3i folder \n",
    "    args = ['/bin/csh', '/Users/tuckerely/SUPCRTandEQs/Automate_EQ3/bin/runeq3', l, water]        #    Arguements to be run inside csh. ./runeq3 data0_suffix .3i file\n",
    "    with open(os.devnull, 'w') as fp:                           #    use of devnull will allow me to supress written output, and hopefull speed things up.\n",
    "        Popen(args, stdout=fp).wait()                           #    wait should give time for process to complete \n",
    "#     sleep(0.5)                                                  #    this is added because wait doesnt always seem to work, it is a temproary fix to keep runs from overlapping\n",
    "\n",
    "    os.chdir(pwd)                                               #    move back to parent directory     \n",
    "    \n",
    "    try:\n",
    "        ### rename output\n",
    "        shutil.move('rxn_3i/output', 'rxn_3o/' + water[:-1] + 'o')   #     local calling of outut should work given code execution location\n",
    "#         shutil.move('rxn_3i/pickup', 'rxn_3p/' + water[:-1] + 'p')\n",
    "\n",
    "    \n",
    "    ### If any of the outputs are not correct, notify of failure.\n",
    "    except:\n",
    "        print('EQ3 failed to produce output on ' + water)\n",
    "        sys.exit()\n"
   ]
  },
  {
   "cell_type": "markdown",
   "metadata": {},
   "source": [
    "# Import data for EQ3 runs"
   ]
  },
  {
   "cell_type": "markdown",
   "metadata": {},
   "source": [
    "# Run 3i files"
   ]
  },
  {
   "cell_type": "code",
   "execution_count": 3,
   "metadata": {
    "collapsed": false
   },
   "outputs": [
    {
     "name": "stdout",
     "output_type": "stream",
     "text": [
      "calling EQ3 on 1.3i using jus\n",
      "calling EQ3 on 10.3i using jus\n",
      "calling EQ3 on 10c.3i using jus\n",
      "calling EQ3 on 10pH.3i using jus\n",
      "calling EQ3 on 11.3i using jus\n",
      "calling EQ3 on 11c.3i using jus\n",
      "calling EQ3 on 11pH.3i using jus\n",
      "calling EQ3 on 12.3i using jus\n",
      "calling EQ3 on 12c.3i using jus\n",
      "calling EQ3 on 12pH.3i using jus\n",
      "calling EQ3 on 13.3i using jus\n",
      "calling EQ3 on 13c.3i using jus\n",
      "calling EQ3 on 13pH.3i using jus\n",
      "calling EQ3 on 14.3i using jus\n",
      "calling EQ3 on 14c.3i using jus\n",
      "calling EQ3 on 14pH.3i using jus\n",
      "calling EQ3 on 15.3i using jus\n",
      "calling EQ3 on 15c.3i using jus\n",
      "calling EQ3 on 15pH.3i using jus\n",
      "calling EQ3 on 16.3i using jus\n",
      "calling EQ3 on 16c.3i using jus\n",
      "calling EQ3 on 16pH.3i using jus\n",
      "calling EQ3 on 17.3i using jus\n",
      "calling EQ3 on 17c.3i using jus\n",
      "calling EQ3 on 17pH.3i using jus\n",
      "calling EQ3 on 18.3i using jus\n",
      "calling EQ3 on 18c.3i using jus\n",
      "calling EQ3 on 18pH.3i using jus\n",
      "calling EQ3 on 19.3i using jus\n",
      "calling EQ3 on 19c.3i using jus\n",
      "calling EQ3 on 19pH.3i using jus\n",
      "calling EQ3 on 1c.3i using jus\n",
      "calling EQ3 on 1pH.3i using jus\n",
      "calling EQ3 on 2.3i using jus\n",
      "calling EQ3 on 20.3i using jus\n",
      "calling EQ3 on 20c.3i using jus\n",
      "calling EQ3 on 20pH.3i using jus\n",
      "calling EQ3 on 21.3i using jus\n",
      "calling EQ3 on 21c.3i using jus\n",
      "calling EQ3 on 21pH.3i using jus\n",
      "calling EQ3 on 22.3i using jus\n",
      "calling EQ3 on 22c.3i using jus\n",
      "calling EQ3 on 22pH.3i using jus\n",
      "calling EQ3 on 23.3i using jus\n",
      "calling EQ3 on 23c.3i using jus\n",
      "calling EQ3 on 23pH.3i using jus\n",
      "calling EQ3 on 2c.3i using jus\n",
      "pickup file for 2c.3i not generated\n",
      "calling EQ3 on 2pH.3i using jus\n",
      "pickup file for 2pH.3i not generated\n",
      "calling EQ3 on 3.3i using jus\n",
      "calling EQ3 on 3c.3i using jus\n",
      "calling EQ3 on 3pH.3i using jus\n",
      "calling EQ3 on 4.3i using jus\n",
      "calling EQ3 on 4c.3i using jus\n",
      "calling EQ3 on 4pH.3i using jus\n",
      "calling EQ3 on 5.3i using jus\n",
      "calling EQ3 on 5c.3i using jus\n",
      "calling EQ3 on 5pH.3i using jus\n",
      "calling EQ3 on 6.3i using jus\n",
      "calling EQ3 on 6c.3i using jus\n",
      "calling EQ3 on 6pH.3i using jus\n",
      "calling EQ3 on 7.3i using jus\n",
      "calling EQ3 on 7c.3i using jus\n",
      "calling EQ3 on 7pH.3i using jus\n",
      "calling EQ3 on 8.3i using jus\n",
      "calling EQ3 on 8c.3i using jus\n",
      "pickup file for 8c.3i not generated\n",
      "calling EQ3 on 8pH.3i using jus\n",
      "calling EQ3 on 9.3i using jus\n",
      "calling EQ3 on 9c.3i using jus\n",
      "calling EQ3 on 9pH.3i using jus\n"
     ]
    }
   ],
   "source": [
    "mk_check_del_directory('rxn_3o')\n",
    "mk_check_del_directory('rxn_3p')\n",
    "three_i_files, three_i_file_paths = read_inputs('3i', 'rxn_3i')\n",
    "\n",
    "input_dir = pwd + \"/rxn_3i/\"\n",
    "pickup_dir = pwd + \"/rxn_3p/\"\n",
    "\n",
    "for i in three_i_files:\n",
    "    call_EQ3('jus', 'rxn_3i', i)\n",
    "    \n",
    "    # rename and move pickup files if generated\n",
    "    os.chdir(input_dir)\n",
    "    i_trunc = re.split('(?<=[a-zA-Z0-9_]).3i$', i)[0]\n",
    "    try:\n",
    "        os.rename(\"pickup\", i_trunc + \".3p\")\n",
    "        shutil.move(input_dir + i_trunc + \".3p\", pickup_dir + i_trunc + \".3p\")\n",
    "    except:\n",
    "        print(\"pickup file for \" + i + \" not generated\")\n",
    "    \n",
    "    os.chdir(pwd)"
   ]
  },
  {
   "cell_type": "markdown",
   "metadata": {},
   "source": [
    "# Process specified data out to csv."
   ]
  },
  {
   "cell_type": "code",
   "execution_count": null,
   "metadata": {
    "collapsed": true
   },
   "outputs": [],
   "source": []
  }
 ],
 "metadata": {
  "hide_input": false,
  "kernelspec": {
   "display_name": "Python [default]",
   "language": "python",
   "name": "python3"
  },
  "language_info": {
   "codemirror_mode": {
    "name": "ipython",
    "version": 3
   },
   "file_extension": ".py",
   "mimetype": "text/x-python",
   "name": "python",
   "nbconvert_exporter": "python",
   "pygments_lexer": "ipython3",
   "version": "3.6.0"
  }
 },
 "nbformat": 4,
 "nbformat_minor": 2
}
