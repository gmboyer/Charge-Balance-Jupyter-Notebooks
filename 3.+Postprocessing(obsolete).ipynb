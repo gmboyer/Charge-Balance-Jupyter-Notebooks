{
 "cells": [
  {
   "cell_type": "code",
   "execution_count": 1,
   "metadata": {
    "collapsed": false
   },
   "outputs": [
    {
     "data": {
      "text/html": [
       "'/Users/graysonboyer/Charge Balance and Aqueous Speciation'"
      ],
      "text/latex": [
       "'/Users/graysonboyer/Charge Balance and Aqueous Speciation'"
      ],
      "text/markdown": [
       "'/Users/graysonboyer/Charge Balance and Aqueous Speciation'"
      ],
      "text/plain": [
       "[1] \"/Users/graysonboyer/Charge Balance and Aqueous Speciation\""
      ]
     },
     "metadata": {},
     "output_type": "display_data"
    },
    {
     "data": {
      "text/html": [
       "'/Users/graysonboyer/Charge Balance and Aqueous Speciation/rxn_3o'"
      ],
      "text/latex": [
       "'/Users/graysonboyer/Charge Balance and Aqueous Speciation/rxn\\_3o'"
      ],
      "text/markdown": [
       "'/Users/graysonboyer/Charge Balance and Aqueous Speciation/rxn_3o'"
      ],
      "text/plain": [
       "[1] \"/Users/graysonboyer/Charge Balance and Aqueous Speciation/rxn_3o\""
      ]
     },
     "metadata": {},
     "output_type": "display_data"
    }
   ],
   "source": [
    "getwd()\n",
    "wd <- getwd()\n",
    "output_path <- paste(wd,\"/rxn_3o\",sep=\"\")\n",
    "setwd(output_path)\n",
    "getwd()"
   ]
  },
  {
   "cell_type": "code",
   "execution_count": 2,
   "metadata": {
    "collapsed": false
   },
   "outputs": [],
   "source": [
    "#there should be a .3o, c.3o and pH.3o for each sample, thus div by 3\n",
    "numberofsamples <- length(list.files(pattern = \"\\\\.3o$\"))/3\n",
    "\n",
    "for(i in 1:numberofsamples) {\n",
    "    \n",
    "  setwd(output_path)\n",
    "  \n",
    "    FileRead <- toString(readLines(paste(c(toString(i),\".3o\"),collapse=\"\")))\n",
    "\n",
    "  filenumber <- i\n",
    "   \n",
    "  match <- regexec(\"Sample:\\\\s*\\\\w+\", FileRead)\n",
    "  if (match[[1]][1] != -1){\n",
    "    Sample_Name <- regmatches(FileRead, match)\n",
    "    Sample_Name <- tail(strsplit(Sample_Name[[1]],split=\" \")[[1]],1)\n",
    "  }else{\n",
    "    Sample_Name <- -999\n",
    "  }\n",
    "\n",
    "  match <- regexec(\"(\\\\S+)\\\\s*per cent of the total charge\", FileRead)\n",
    "  if (match[[1]][1] != -1){\n",
    "    Percent_Imbalance <- regmatches(FileRead, match)\n",
    "    Percent_Imbalance <- head(strsplit(Percent_Imbalance[[1]],split=\" \")[[1]],1)\n",
    "  }else{\n",
    "    Percent_Imbalance <- -999\n",
    "  }\n",
    "\n",
    "  match <- regexec(\"NBS pH scale                \\\\S+     \\\\S+\", FileRead)\n",
    "  if (match[[1]][1] != -1){\n",
    "    Eh_calc <- regmatches(FileRead, match)\n",
    "    Eh_calc <- tail(strsplit(Eh_calc[[1]],split=\" \")[[1]],1)\n",
    "  }else{\n",
    "    Eh_calc <- -999\n",
    "  }\n",
    "\n",
    "  match <- regexec(\"Ionic strength [[:punct:]]I[[:punct:]]= \\\\S+\", FileRead)\n",
    "  if (match[[1]][1] != -1){\n",
    "    IS_calc <- regmatches(FileRead, match)\n",
    "    IS_calc <- tail(strsplit(IS_calc[[1]],split=\" \")[[1]],1)\n",
    "  }else{\n",
    "    IS_calc <- -999\n",
    "  }\n",
    "\n",
    "  FileRead2 <- toString(readLines(paste(c(toString(i),\"ph.3o\"),collapse=\"\")))\n",
    "  match <- regexec(\"Final[[:blank:]]+[[:alnum:]]+[[:punct:]][[:alnum:]]+\", FileRead2)\n",
    "  if (match[[1]][1] != -1){\n",
    "    pH_balanced_calc <- regmatches(FileRead2, match)\n",
    "    pH_balanced_calc <- tail(strsplit(pH_balanced_calc[[1]],split=\" \")[[1]],1)\n",
    "    pH_balanced_calc <- substr(pH_balanced_calc, 1, nchar(pH_balanced_calc)-1)\n",
    "  }else{\n",
    "    pH_balanced_calc <- -999\n",
    "  }\n",
    "\n",
    "  FileRead3 <- toString(readLines(paste(c(toString(i),\"c.3o\"),collapse=\"\")))\n",
    "  match <- regexec(\"Final[[:blank:]]+[[:alnum:]]+[[:punct:]][[:alnum:]]+\", FileRead3)\n",
    "  match2 <- regexec(\"[[:alnum:]]+[[:punct:]][[:alnum:]]+[[:blank:]]+mg/L HCO3-\", FileRead3)\n",
    "\n",
    "  if (match[[1]][1] != -1){\n",
    "    carb_balanced_calc <- regmatches(FileRead3, match)\n",
    "    carb_balanced_calc <- tail(strsplit(carb_balanced_calc[[1]],split=\" \")[[1]],1)\n",
    "    carb_balanced_calc <- substr(carb_balanced_calc, 1, nchar(carb_balanced_calc)-1)\n",
    "  }else if(match2[[1]][1] != -1){\n",
    "    carb_balanced_calc <- regmatches(FileRead3, match2)\n",
    "    carb_balanced_calc <- head(strsplit(carb_balanced_calc[[1]],split=\" \")[[1]],1)\n",
    "    carb_balanced_calc <- substr(carb_balanced_calc, 1, nchar(carb_balanced_calc)-1)\n",
    "  }else{\n",
    "    carb_balanced_calc <- -999\n",
    "  }\n",
    "\n",
    "  setwd(wd)\n",
    "\n",
    "  g <- as.matrix(read.csv(\"MasterInput_cleaned.csv\", header=FALSE, colClasses = \"character\"))\n",
    "  colnames(g) <- g[1,]\n",
    "  colnames(g)[9] <- \"HCO3._molality\"\n",
    "  colnames(g)[10] <- \"CaCO3alkalinity\"\n",
    "  geochem <- g[i+2,seq(2,length(g[i,]),1)]\n",
    "\n",
    "  ProtonErrorPercent <- 100*(((10^-(as.numeric(pH_balanced_calc)))-(10^-(as.numeric(g[i+2,\"H+\"]))))/(10^-(as.numeric(g[i+2,\"H+\"]))))\n",
    "\n",
    "  carbinputDIC <- as.numeric(g[i+2,\"HCO3._molality\"])*1000*61.0168\n",
    "  carbinputALK <- as.numeric(g[i+2,\"CaCO3alkalinity\"])*1.22 #convert CaCO3 mg/L alkalinity to HCO3- mg/L alkalinity\n",
    "\n",
    "  if(carbinputDIC > 0){\n",
    "    carbinput <- carbinputDIC\n",
    "    carbmessage <- \"DIC\"\n",
    "  }\n",
    "\n",
    "  if(carbinputDIC == 0 && carbinputALK > 0){\n",
    "    carbinput <- carbinputALK\n",
    "    carbmessage <- \"CaCO3\"\n",
    "  }\n",
    "\n",
    "  if(carbinputDIC == 0 && carbinputALK == 0){\n",
    "    carbinput <- 0\n",
    "    carbmessage <- \"No DIC or CaCO3\"\n",
    "  }\n",
    "\n",
    "  DIC_Error <- as.numeric(carb_balanced_calc)-carbinput\n",
    "\n",
    "  number_of_columns <- 12+length(g[i,])-1 # 1) file 2) sample 3) pH 4)charge-balanced pH 5) proton error percent 6) %imbalance 7) Eh 8) IS 9+) geochem's column length -1 (redundant geochem sample column removed)\n",
    "\n",
    "  headers1 <- data.frame(matrix(c(\"\",\"\",\"\",\"\",\"HCO3- input\",\"Charge-balanced HCO3-\",\"Method\",\"Charge Imbalance\", \"[H+] discrepancy\", \"HCO3- discrepancy\", \"Eh\", \"IS\", g[1,seq(2,length(g[1,]),1)]),nrow=1,ncol=number_of_columns))\n",
    "  headers2 <- data.frame(matrix(c(\"File\",\"Sample\",\"pH\",\"Charge-balanced pH\",\"mg/L\",\"mg/L\",\"Type\",\"%\", \"%\",\"mg/L\", \"volts\", \"mol/kg\", g[2,seq(2,length(g[1,]),1)]),nrow=1,ncol=number_of_columns))\n",
    "  sample_entry <- data.frame(matrix(c(filenumber, Sample_Name, g[i+2,\"H+\"], pH_balanced_calc, carbinput, carb_balanced_calc, carbmessage, Percent_Imbalance, ProtonErrorPercent, DIC_Error, Eh_calc, IS_calc, geochem),nrow=1,ncol=number_of_columns))\n",
    "\n",
    "  setwd(wd)\n",
    "    if(i==1){\n",
    "      write.table(headers1, file=\"report.csv\", sep = \",\", append=FALSE, row.names = FALSE, col.names=FALSE)\n",
    "      write.table(headers2, file=\"report.csv\", sep = \",\", append=TRUE, row.names = FALSE, col.names=FALSE)\n",
    "      write.table(sample_entry, file=\"report.csv\", sep = \",\", append=TRUE, row.names = FALSE, col.names=FALSE)\n",
    "    }else{\n",
    "      write.table(sample_entry, file=\"report.csv\", sep = \",\", append=TRUE, row.names = FALSE, col.names=FALSE)\n",
    "    }\n",
    "} #end loop"
   ]
  },
  {
   "cell_type": "code",
   "execution_count": null,
   "metadata": {
    "collapsed": true
   },
   "outputs": [],
   "source": []
  }
 ],
 "metadata": {
  "hide_input": false,
  "kernelspec": {
   "display_name": "R",
   "language": "R",
   "name": "ir"
  },
  "language_info": {
   "codemirror_mode": "r",
   "file_extension": ".r",
   "mimetype": "text/x-r-source",
   "name": "R",
   "pygments_lexer": "r",
   "version": "3.3.2"
  }
 },
 "nbformat": 4,
 "nbformat_minor": 2
}
