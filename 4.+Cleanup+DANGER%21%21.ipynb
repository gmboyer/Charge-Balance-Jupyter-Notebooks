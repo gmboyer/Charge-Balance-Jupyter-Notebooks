{
 "cells": [
  {
   "cell_type": "markdown",
   "metadata": {},
   "source": [
    "# Delete all files and folders created by notebooks 1, 2, and 3\n",
    "### Including .3i input files, .3o and .3p output files, and reports\n",
    "### Rename or back up any files and folders you wish to keep before running this!"
   ]
  },
  {
   "cell_type": "code",
   "execution_count": 1,
   "metadata": {
    "collapsed": true
   },
   "outputs": [],
   "source": [
    "unlink(\"rxn_3i/\", recursive = TRUE) # delete rxn_3i folder\n",
    "unlink(\"rxn_3o/\", recursive = TRUE) # delete rxn_3o folder\n",
    "unlink(\"rxn_3p/\", recursive = TRUE) # delete rxn_3p folder\n",
    "unlink(\"MasterInput_cleaned.csv\", recursive = TRUE) # delete cleaned-up version of MasterInput.csv produced by pre-processing\n",
    "unlink(\"removed.csv\", recursive = TRUE) # delete the list samples that did not fit criteria for charge balance speciation\n",
    "unlink(\"report.csv\", recursive = TRUE) # delete the charge balance report"
   ]
  },
  {
   "cell_type": "code",
   "execution_count": null,
   "metadata": {
    "collapsed": true
   },
   "outputs": [],
   "source": []
  }
 ],
 "metadata": {
  "hide_input": false,
  "kernelspec": {
   "display_name": "R",
   "language": "R",
   "name": "ir"
  },
  "language_info": {
   "codemirror_mode": "r",
   "file_extension": ".r",
   "mimetype": "text/x-r-source",
   "name": "R",
   "pygments_lexer": "r",
   "version": "3.3.2"
  }
 },
 "nbformat": 4,
 "nbformat_minor": 2
}
